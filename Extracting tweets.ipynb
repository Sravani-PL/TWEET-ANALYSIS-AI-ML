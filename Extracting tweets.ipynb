{
 "cells": [
  {
   "cell_type": "code",
   "execution_count": 2,
   "id": "5882befb",
   "metadata": {},
   "outputs": [],
   "source": [
    "import tweepy as tw\n",
    "\n",
    "import pandas as pd\n",
    "import csv\n",
    "import re \n",
    "import string\n",
    "import preprocessor as p\n",
    "\n",
    "consumer_key = \"mpGiia4nMLUx8cIwOqgRtzv5N\"\n",
    "consumer_secret = \"DtUmtV8r61p5ydJdXCD8PhspE1AFFcIvIivcBjKJFWeE50Dd5j\"\n",
    "access_key=\"1467858945679114241-MkryA1GGPRRs4yjC5N0xiFweAVesOU\"\n",
    "access_secret =\"145qf011vZgKe2uUVzxrSd8WhHLTAeslhCqTkidQQPAle\"\n",
    "\n",
    "auth = tw.OAuthHandler(consumer_key, consumer_secret)\n",
    "auth.set_access_token(access_key, access_secret)\n",
    "\n",
    "api = tw.API(auth,wait_on_rate_limit=True)\n",
    "\n",
    "csvFile = open('tweet.csv','a')\n",
    "csvWriter = csv.writer(csvFile)\n",
    "\n",
    "search_words = \"#datascience\"      # enter your words\n",
    "new_search = search_words + \" -filter:retweets\"\n",
    "\n",
    "for tweet in tw.Cursor(api.search_tweets,q=new_search,count=100,\n",
    "                           lang=\"en\",\n",
    "                           since_id=0).items(10):\n",
    "    csvWriter.writerow([tweet.created_at, tweet.text.encode('utf-8'),tweet.user.screen_name.encode('utf-8'), tweet.user.location.encode('utf-8')])"
   ]
  },
  {
   "cell_type": "code",
   "execution_count": null,
   "id": "884483e1",
   "metadata": {},
   "outputs": [],
   "source": []
  },
  {
   "cell_type": "code",
   "execution_count": null,
   "id": "40cfff81",
   "metadata": {},
   "outputs": [],
   "source": []
  }
 ],
 "metadata": {
  "kernelspec": {
   "display_name": "Python 3",
   "language": "python",
   "name": "python3"
  },
  "language_info": {
   "codemirror_mode": {
    "name": "ipython",
    "version": 3
   },
   "file_extension": ".py",
   "mimetype": "text/x-python",
   "name": "python",
   "nbconvert_exporter": "python",
   "pygments_lexer": "ipython3",
   "version": "3.8.8"
  }
 },
 "nbformat": 4,
 "nbformat_minor": 5
}
